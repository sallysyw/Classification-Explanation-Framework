{
 "cells": [
  {
   "cell_type": "code",
   "execution_count": 1,
   "metadata": {},
   "outputs": [],
   "source": [
    "import numpy as np\n",
    "from lime import lime_text\n",
    "from lime.lime_text import LimeTextExplainer\n",
    "import sklearn\n",
    "import sklearn.ensemble\n",
    "import sklearn.metrics\n",
    "from sklearn import preprocessing\n",
    "from nltk.corpus import stopwords\n",
    "from sklearn.feature_extraction.text import TfidfVectorizer\n",
    "# from __future__ import print_function"
   ]
  },
  {
   "cell_type": "code",
   "execution_count": 2,
   "metadata": {},
   "outputs": [],
   "source": [
    "class Data: pass"
   ]
  },
  {
   "cell_type": "code",
   "execution_count": 3,
   "metadata": {},
   "outputs": [
    {
     "ename": "SyntaxError",
     "evalue": "invalid syntax (<ipython-input-3-52650edd5801>, line 20)",
     "output_type": "error",
     "traceback": [
      "\u001b[0;36m  File \u001b[0;32m\"<ipython-input-3-52650edd5801>\"\u001b[0;36m, line \u001b[0;32m20\u001b[0m\n\u001b[0;31m    self.vectorizer = TfidfVectorizer(stop_words = stopWords, ngram_range=(1,2), min_df=2, max_df=0.4, max_features=9000,smooth_idf=1)\u001b[0m\n\u001b[0m       ^\u001b[0m\n\u001b[0;31mSyntaxError\u001b[0m\u001b[0;31m:\u001b[0m invalid syntax\n"
     ]
    }
   ],
   "source": [
    "class MyClassifier(object):\n",
    "    def __init__(self):\n",
    "        pass\n",
    "    \n",
    "    # read a tsv file \n",
    "    def read_tsv(self, fname):\n",
    "        data = []\n",
    "        labels = []\n",
    "        f = open(fname, 'r')\n",
    "        for line in f:\n",
    "            (label,text) = line.strip().split(\"\\t\")\n",
    "            labels.append(label)\n",
    "            data.append(text)\n",
    "        return data, labels\n",
    "    \n",
    "    # upload a train file (first column is label, second line is data)\n",
    "    def upload_train_file(self, train_name):\n",
    "        self.data = Data()\n",
    "        stopWords = list((stopwords.words('english'))\n",
    "        self.vectorizer = TfidfVectorizer(stop_words = stopWords, ngram_range=(1,2), min_df=2, \\\n",
    "                                          max_df=0.4, max_features=9000,smooth_idf=1)\n",
    "    \n",
    "        print(\"-- train data: \")\n",
    "        self.data.train_data, self.data.train_labels = self.read_tsv(train_name)\n",
    "        print(len(self.data.train_data))\n",
    "        self.train_x = self.vectorizer.fit_transform(self.data.train_data)\n",
    "        self.feature = self.vectorizer.get_feature_names()\n",
    "        \n",
    "        self.data.le = preprocessing.LabelEncoder()\n",
    "        self.data.le.fit(self.data.train_labels)\n",
    "        self.data.target_labels = self.data.le.classes_\n",
    "        self.train_y = self.data.le.transform(self.data.train_labels)\n",
    "        \n",
    "        self.explainer = LimeTextExplainer(class_names = self.data.target_labels)\n",
    "\n",
    "    # upload a test file (first column is label, second line is data)\n",
    "    # before calling this, must call upload_train_file\n",
    "    def upload_test_file(self, test_name):\n",
    "        print(\"-- test data: \")\n",
    "        self.data.test_data, self.data.test_labels = self.read_tsv(test_name)\n",
    "        print(len(self.data.test_data))\n",
    "        self.test_x = self.vectorizer.transform(self.data.test_data)\n",
    "        self.test_y = self.data.le.transform(self.data.test_labels)\n",
    "    \n",
    "    def explain_sample(self, model, idx, sample, num_of_features):\n",
    "        from sklearn.pipeline import make_pipeline\n",
    "        c = make_pipeline(self.vectorizer, model)\n",
    "        \n",
    "        if not sample:\n",
    "            mydata = self.data.test_data[idx]\n",
    "        else:\n",
    "            mydata = sample\n",
    "        \n",
    "        exp = self.explainer.explain_instance(mydata, c.predict_proba, num_features = num_of_features)\n",
    "        if not sample:\n",
    "            print('Sample id: %d' % idx)\n",
    "            print('True class: %s' % self.data.target_labels[self.test_y[idx]])\n",
    "        print('Predicted Class: %s' % self.data.target_labels[np.argmax(c.predict_proba([mydata]))])\n",
    "        print('Probabilities = ',c.predict_proba([mydata]),'\\n')\n",
    "        print(exp.as_list(),\"\\n\")\n",
    "#         %matplotlib inline\n",
    "        fig = exp.as_pyplot_figure()\n",
    "        exp.show_in_notebook(text=True)\n",
    "    \n",
    "\n",
    "    def extract_features(self, data):\n",
    "        return self.vectorizer.transform(data)\n",
    "\n",
    "    def train_model(self):\n",
    "        pass\n",
    "    \n",
    "    def predict_sample(self, sample):\n",
    "        pass\n",
    "    \n",
    "    def predict_test(self):\n",
    "        pass"
   ]
  },
  {
   "cell_type": "code",
   "execution_count": null,
   "metadata": {},
   "outputs": [],
   "source": [
    "class RandomForestClassifier(MyClassifier):\n",
    "    def __init__(self):\n",
    "        self.rf = sklearn.ensemble.RandomForestClassifier(n_estimators=10)\n",
    "    \n",
    "    # before calling this function, must call self.upload_train_file\n",
    "    def train_model(self):\n",
    "        self.rf.fit(self.train_x, self.train_y)\n",
    "\n",
    "    # before calling this function, must call self.upload_test_file\n",
    "    def predict_test(self):\n",
    "        pred = self.rf.predict(self.test_x)\n",
    "        print(\"The F1-score is: \")\n",
    "        print(sklearn.metrics.f1_score(self.test_y, pred, average='binary'))\n",
    "\n",
    "    def predict_sample(self, sample):\n",
    "        pred = self.rf.predict([sample])\n",
    "        print(\"The lable of this sample is :\" + str(self.data.target_labels[pred[0]]))\n",
    "    \n",
    "    def explain_indexed_test_sample(self, idx, num_of_features = 6):\n",
    "        self.explain_sample(self.rf, idx, None, num_of_features)\n",
    "    \n",
    "    def explain_self_input_sample(self, sample, num_of_features = 6):\n",
    "        self.explain_sample(self.rf, -1, sample, num_of_features)\n",
    "        \n",
    "    def get_top_features(self, n = 10):\n",
    "        vec = self.rf.feature_importances_\n",
    "        tmp = []\n",
    "        for i in range(len(vec)):\n",
    "            tmp.append([vec[i], i])\n",
    "        tmp.sort(reverse = True)\n",
    "        print(\"The top-%d important Feature Name & Importance Value: \\n\" % n)\n",
    "        for i in range(n):\n",
    "            idx = tmp[i][1]\n",
    "            importance_value = tmp[i][0]\n",
    "            feature_name = self.feature[idx]\n",
    "            print(\"%20s : %f \\n \" %(feature_name, importance_value))"
   ]
  },
  {
   "cell_type": "code",
   "execution_count": null,
   "metadata": {},
   "outputs": [],
   "source": [
    "rf_classifier = RandomForestClassifier()"
   ]
  },
  {
   "cell_type": "code",
   "execution_count": null,
   "metadata": {},
   "outputs": [],
   "source": [
    "rf_classifier.upload_train_file(\"train.tsv\")"
   ]
  },
  {
   "cell_type": "code",
   "execution_count": null,
   "metadata": {},
   "outputs": [],
   "source": [
    "rf_classifier.upload_test_file(\"dev.tsv\")"
   ]
  },
  {
   "cell_type": "code",
   "execution_count": null,
   "metadata": {},
   "outputs": [],
   "source": [
    "rf_classifier.train_model()"
   ]
  },
  {
   "cell_type": "code",
   "execution_count": null,
   "metadata": {},
   "outputs": [],
   "source": [
    "rf_classifier.predict_test()"
   ]
  },
  {
   "cell_type": "code",
   "execution_count": null,
   "metadata": {},
   "outputs": [],
   "source": [
    "rf_classifier.explain_indexed_test_sample(100)"
   ]
  },
  {
   "cell_type": "code",
   "execution_count": null,
   "metadata": {},
   "outputs": [],
   "source": [
    "rf_classifier.explain_self_input_sample(\"The food are amazing!\")"
   ]
  },
  {
   "cell_type": "code",
   "execution_count": null,
   "metadata": {},
   "outputs": [],
   "source": [
    "rf_classifier.get_top_features(10)"
   ]
  }
 ],
 "metadata": {
  "kernelspec": {
   "display_name": "Python 3",
   "language": "python",
   "name": "python3"
  },
  "language_info": {
   "codemirror_mode": {
    "name": "ipython",
    "version": 3
   },
   "file_extension": ".py",
   "mimetype": "text/x-python",
   "name": "python",
   "nbconvert_exporter": "python",
   "pygments_lexer": "ipython3",
   "version": "3.7.3"
  }
 },
 "nbformat": 4,
 "nbformat_minor": 2
}
